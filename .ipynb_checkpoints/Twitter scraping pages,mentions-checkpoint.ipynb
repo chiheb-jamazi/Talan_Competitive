{
 "cells": [
  {
   "cell_type": "code",
   "execution_count": 1,
   "id": "f8dba2f2",
   "metadata": {},
   "outputs": [],
   "source": [
    "import csv\n",
    "from getpass import getpass\n",
    "from time import sleep \n",
    "from selenium import webdriver\n",
    "from selenium.webdriver.common.keys import Keys\n",
    "from selenium.common.exceptions import NoSuchAttributeException\n",
    "from bs4 import BeautifulSoup\n",
    "from time import sleep\n",
    "import time"
   ]
  },
  {
   "cell_type": "code",
   "execution_count": 186,
   "id": "03076acf",
   "metadata": {},
   "outputs": [],
   "source": [
    "\n",
    "driver = webdriver.Chrome(r'C:\\\\Users\\\\jchih\\\\\\Documents\\\\selenium\\\\chromedriver.exe')\n",
    "driver.maximize_window()\n",
    "chrome_options = webdriver.ChromeOptions()\n",
    "prefs = {\"profile.default_content_setting_values.notifications\" : 2}\n",
    "chrome_options.add_experimental_option(\"prefs\",prefs)\n",
    "driver.get('https://twitter.com/login')\n",
    "sleep(5)\n",
    "username = driver.find_element_by_xpath('//*[@id=\"layers\"]/div/div/div/div/div/div/div[2]/div[2]/div/div/div[2]/div[2]/div[1]/div/div/div[5]/label').send_keys('jamazichiheb')\n",
    "driver.find_element_by_xpath('//*[@id=\"layers\"]/div/div/div/div/div/div/div[2]/div[2]/div/div/div[2]/div[2]/div[1]/div/div/div[6]').click()\n",
    "sleep(3)\n",
    "password = driver.find_element_by_xpath('//*[@id=\"layers\"]/div/div/div/div/div/div/div[2]/div[2]/div/div/div[2]/div[2]/div[1]/div/div/div[3]/div/label/div/div[2]/div[1]/input').send_keys('Seawaymn2011&&')\n",
    "sleep(3)\n",
    "driver.find_element_by_xpath('//*[@id=\"layers\"]/div/div/div/div/div/div/div[2]/div[2]/div/div/div[2]/div[2]/div[2]/div/div[1]').click()\n",
    "sleep(4)\n"
   ]
  },
  {
   "cell_type": "code",
   "execution_count": 27,
   "id": "0c3c4170",
   "metadata": {},
   "outputs": [],
   "source": [
    "\n",
    "def scrolling_function():\n",
    "    start = time.time()\n",
    "    initialScroll = 0\n",
    "    finalScroll = 1000\n",
    "  \n",
    "    while True:\n",
    "        driver.execute_script(f\"window.scrollTo({initialScroll},{finalScroll})\")\n",
    "        initialScroll = finalScroll\n",
    "        finalScroll += 1000\n",
    "        end = time.time()\n",
    "        if round(end - start) > 30:\n",
    "            break "
   ]
  },
  {
   "cell_type": "code",
   "execution_count": 57,
   "id": "9296b443",
   "metadata": {},
   "outputs": [],
   "source": [
    "dates =[]\n",
    "likes=[]\n",
    "descriptions=[]\n",
    "retweets=[]\n",
    "replys=[]\n",
    "images=[]\n",
    "article_link=[]\n",
    "def get_twitter_posts (soup):\n",
    "    containers =soup.find_all(class_='css-1dbjc4n r-1loqt21 r-18u37iz r-1ny4l3l r-1udh08x r-1qhn6m8 r-i023vh r-o7ynqc r-6416eg')\n",
    "    for container in containers :\n",
    "        try :\n",
    "            date = container.find(class_=\"css-4rbku5 css-18t94o4 css-901oao r-14j79pv r-1loqt21 r-1q142lx r-37j5jr r-a023e6 r-16dba41 r-rjixqe r-bcqeeo r-3s2u2q r-qvutc0\")\n",
    "            dates.append(date.get_text())\n",
    "    #             print(dates)\n",
    "        except :\n",
    "            dates.append('none')\n",
    "        ###Description######\n",
    "        try :\n",
    "            description = container.find(class_=\"css-901oao r-18jsvk2 r-37j5jr r-a023e6 r-16dba41 r-rjixqe r-bcqeeo r-bnwqim r-qvutc0\")\n",
    "            descriptions.append(description.get_text())\n",
    "    #             print(descriptions)\n",
    "        except :\n",
    "            descriptions.append('none')\n",
    "        ###Likes######\n",
    "        try:\n",
    "            like = container.find_all(class_ = 'css-901oao css-16my406 r-poiln3 r-bcqeeo r-qvutc0')\n",
    "            x= len(like)-1\n",
    "            likes.append(like[x].get_text())\n",
    "    #             print(likes)\n",
    "        except :\n",
    "            likes.append('none')\n",
    "        ###comments_count######\n",
    "        try :\n",
    "            retweet = container.find_all(class_ = 'css-901oao css-16my406 r-poiln3 r-bcqeeo r-qvutc0')\n",
    "            x= len(like)-2\n",
    "            retweets.append(retweet[x].get_text())\n",
    "        except:\n",
    "            retweets.append('none')\n",
    "        ###shares_count ######  \n",
    "        try :\n",
    "            reply = container.find_all(class_ = 'css-901oao css-16my406 r-poiln3 r-bcqeeo r-qvutc0')\n",
    "            x= len(reply)-3\n",
    "            replys.append(reply[x].get_text())\n",
    "        except :\n",
    "            replys.append('none')\n",
    "        ###images link ###### \n",
    "        try :\n",
    "            reaction = container.find_all(class_ = 'css-9pa8cd')\n",
    "            image = reaction[1]['src']\n",
    "            images.append(image)\n",
    "    #             print(images)\n",
    "        except :\n",
    "            images.append('none')\n",
    "        try : \n",
    "\n",
    "            articles = container.find(class_ = 'css-1dbjc4n r-140t1nj r-pm2fo r-zmljjp r-rull8r r-qklmqi r-1adg3ll')\n",
    "            article =articles.find('a')['href']\n",
    "            article_link.append(article)\n",
    "        except :\n",
    "            article_link.append('none')\n",
    "#     return dates,likes,descriptions,retweets,replys,images,article_link"
   ]
  },
  {
   "cell_type": "code",
   "execution_count": 58,
   "id": "8dce81c5",
   "metadata": {},
   "outputs": [
    {
     "name": "stdout",
     "output_type": "stream",
     "text": [
      "Enter your value: accenture\n"
     ]
    }
   ],
   "source": [
    "company = input(\"Enter your value: \")\n",
    "page = \"https://twitter.com/\"+company+\"/media\"\n",
    "driver.get(page)"
   ]
  },
  {
   "cell_type": "code",
   "execution_count": 59,
   "id": "d74ff885",
   "metadata": {},
   "outputs": [],
   "source": [
    "scrolling_function()\n",
    "company_page = driver.page_source\n",
    "soup =BeautifulSoup(company_page, 'lxml')\n",
    "get_twitter_posts (soup)"
   ]
  },
  {
   "cell_type": "code",
   "execution_count": 62,
   "id": "72d0d6d3",
   "metadata": {},
   "outputs": [
    {
     "data": {
      "text/plain": [
       "5"
      ]
     },
     "execution_count": 62,
     "metadata": {},
     "output_type": "execute_result"
    }
   ],
   "source": [
    "containers =soup.find_all(class_='css-1dbjc4n r-1loqt21 r-18u37iz r-1ny4l3l r-1udh08x r-1qhn6m8 r-i023vh r-o7ynqc r-6416eg')\n",
    "len(containers)"
   ]
  },
  {
   "cell_type": "code",
   "execution_count": 60,
   "id": "503565aa",
   "metadata": {},
   "outputs": [],
   "source": [
    "\n",
    "tweets_Data = pd.DataFrame(\n",
    "                {'PostDate': dates,\n",
    "                 'PostText': descriptions,\n",
    "                 'PostLikes': likes,       \n",
    "                 \"PostRetweet\":retweets,\n",
    "                 \"Postreplys\": replys,\n",
    "                 \"PostImages\":images,\n",
    "                 \"PostArticles\":article_link,\n",
    "                })"
   ]
  },
  {
   "cell_type": "code",
   "execution_count": 61,
   "id": "02510385",
   "metadata": {},
   "outputs": [
    {
     "data": {
      "text/html": [
       "<div>\n",
       "<style scoped>\n",
       "    .dataframe tbody tr th:only-of-type {\n",
       "        vertical-align: middle;\n",
       "    }\n",
       "\n",
       "    .dataframe tbody tr th {\n",
       "        vertical-align: top;\n",
       "    }\n",
       "\n",
       "    .dataframe thead th {\n",
       "        text-align: right;\n",
       "    }\n",
       "</style>\n",
       "<table border=\"1\" class=\"dataframe\">\n",
       "  <thead>\n",
       "    <tr style=\"text-align: right;\">\n",
       "      <th></th>\n",
       "      <th>PostDate</th>\n",
       "      <th>PostText</th>\n",
       "      <th>PostLikes</th>\n",
       "      <th>PostRetweet</th>\n",
       "      <th>Postreplys</th>\n",
       "      <th>PostImages</th>\n",
       "      <th>PostArticles</th>\n",
       "    </tr>\n",
       "  </thead>\n",
       "  <tbody>\n",
       "    <tr>\n",
       "      <th>0</th>\n",
       "      <td>Mar 5, 2020</td>\n",
       "      <td>Say, do, drive: three steps to a more inclusiv...</td>\n",
       "      <td>38</td>\n",
       "      <td>18</td>\n",
       "      <td>1</td>\n",
       "      <td>https://pbs.twimg.com/media/ESXu4vsWsAADUSr?fo...</td>\n",
       "      <td>none</td>\n",
       "    </tr>\n",
       "    <tr>\n",
       "      <th>1</th>\n",
       "      <td>Mar 5, 2020</td>\n",
       "      <td>Equality in the workplace has never been more ...</td>\n",
       "      <td>76</td>\n",
       "      <td>39</td>\n",
       "      <td>5</td>\n",
       "      <td>https://pbs.twimg.com/media/ESVzS3RX0AEOaa8?fo...</td>\n",
       "      <td>none</td>\n",
       "    </tr>\n",
       "    <tr>\n",
       "      <th>2</th>\n",
       "      <td>Mar 4, 2020</td>\n",
       "      <td>When it comes to a culture of equality and inc...</td>\n",
       "      <td>46</td>\n",
       "      <td>22</td>\n",
       "      <td>2</td>\n",
       "      <td>https://pbs.twimg.com/media/ESYmQ6dUYAI1E1E.jpg</td>\n",
       "      <td>none</td>\n",
       "    </tr>\n",
       "    <tr>\n",
       "      <th>3</th>\n",
       "      <td>Mar 2, 2020</td>\n",
       "      <td>From finstas to voice skins there are plenty o...</td>\n",
       "      <td>14</td>\n",
       "      <td>5</td>\n",
       "      <td>0:01 / 0:17</td>\n",
       "      <td>none</td>\n",
       "      <td>none</td>\n",
       "    </tr>\n",
       "    <tr>\n",
       "      <th>4</th>\n",
       "      <td>Mar 2, 2020</td>\n",
       "      <td>We’re in the midst of a “tech-clash”—where bus...</td>\n",
       "      <td>22</td>\n",
       "      <td>13</td>\n",
       "      <td>2</td>\n",
       "      <td>https://pbs.twimg.com/media/ESG_uI7WAAA_u1v?fo...</td>\n",
       "      <td>none</td>\n",
       "    </tr>\n",
       "  </tbody>\n",
       "</table>\n",
       "</div>"
      ],
      "text/plain": [
       "      PostDate                                           PostText PostLikes  \\\n",
       "0  Mar 5, 2020  Say, do, drive: three steps to a more inclusiv...        38   \n",
       "1  Mar 5, 2020  Equality in the workplace has never been more ...        76   \n",
       "2  Mar 4, 2020  When it comes to a culture of equality and inc...        46   \n",
       "3  Mar 2, 2020  From finstas to voice skins there are plenty o...        14   \n",
       "4  Mar 2, 2020  We’re in the midst of a “tech-clash”—where bus...        22   \n",
       "\n",
       "  PostRetweet   Postreplys                                         PostImages  \\\n",
       "0          18            1  https://pbs.twimg.com/media/ESXu4vsWsAADUSr?fo...   \n",
       "1          39            5  https://pbs.twimg.com/media/ESVzS3RX0AEOaa8?fo...   \n",
       "2          22            2    https://pbs.twimg.com/media/ESYmQ6dUYAI1E1E.jpg   \n",
       "3           5  0:01 / 0:17                                               none   \n",
       "4          13            2  https://pbs.twimg.com/media/ESG_uI7WAAA_u1v?fo...   \n",
       "\n",
       "  PostArticles  \n",
       "0         none  \n",
       "1         none  \n",
       "2         none  \n",
       "3         none  \n",
       "4         none  "
      ]
     },
     "execution_count": 61,
     "metadata": {},
     "output_type": "execute_result"
    }
   ],
   "source": [
    "tweets_Data"
   ]
  },
  {
   "cell_type": "markdown",
   "id": "3b2e6123",
   "metadata": {},
   "source": [
    "### here we make tests"
   ]
  },
  {
   "cell_type": "code",
   "execution_count": 69,
   "id": "71d241c9",
   "metadata": {},
   "outputs": [],
   "source": [
    "cards =driver.find_elements_by_xpath('//*[@id=\"react-root\"]/div/div/div[2]/main/div/div/div/div/div/div[2]/div/div/section/div/div/div[1]/div/div/article')"
   ]
  },
  {
   "cell_type": "code",
   "execution_count": 90,
   "id": "d8592493",
   "metadata": {
    "scrolled": true
   },
   "outputs": [
    {
     "data": {
      "text/plain": [
       "[<selenium.webdriver.remote.webelement.WebElement (session=\"fdd314f3d1fc130d7ded81e728701154\", element=\"7b65d08d-6d17-46db-b741-5e3a8cbbd234\")>]"
      ]
     },
     "execution_count": 90,
     "metadata": {},
     "output_type": "execute_result"
    }
   ],
   "source": [
    "cards"
   ]
  },
  {
   "cell_type": "code",
   "execution_count": 91,
   "id": "1c5cd8f0",
   "metadata": {},
   "outputs": [],
   "source": [
    "page_cards = driver.find_elements_by_xpath('//article[@data-testid=\"tweet\"]')\n",
    "card = page_cards[0]"
   ]
  },
  {
   "cell_type": "code",
   "execution_count": 92,
   "id": "8b368c9a",
   "metadata": {},
   "outputs": [
    {
     "data": {
      "text/plain": [
       "'Accenture\\n@Accenture\\n·\\n2h\\nThe  key trends driving the #Metaverse Continuum that every leader needs to know.\\n\\nFind them in #TechVision 2022: Meet Me in the Metaverse  https://accntu.re/3wMNiMc\\nVisit accenture.com\\n466 views\\n0:41 / 0:42\\n1\\n3\\n7'"
      ]
     },
     "execution_count": 92,
     "metadata": {},
     "output_type": "execute_result"
    }
   ],
   "source": [
    "card.text"
   ]
  },
  {
   "cell_type": "code",
   "execution_count": 65,
   "id": "0ba2918e",
   "metadata": {},
   "outputs": [
    {
     "ename": "NoSuchElementException",
     "evalue": "Message: no such element: Unable to locate element: {\"method\":\"xpath\",\"selector\":\"//*[@id=\"react-root\"]/div/div/div[2]/main/div/div/div/div[1]/div/div[2]/div/section/div/div/div[1]/div/div/article/div/div/div/div[2]/div[2]/div[1]/div/div\"}\n  (Session info: chrome=99.0.4844.82)\n",
     "output_type": "error",
     "traceback": [
      "\u001b[1;31m---------------------------------------------------------------------------\u001b[0m",
      "\u001b[1;31mNoSuchElementException\u001b[0m                    Traceback (most recent call last)",
      "\u001b[1;32m~\\AppData\\Local\\Temp/ipykernel_8196/1584205354.py\u001b[0m in \u001b[0;36m<module>\u001b[1;34m\u001b[0m\n\u001b[1;32m----> 1\u001b[1;33m \u001b[0musername\u001b[0m \u001b[1;33m=\u001b[0m \u001b[0mdriver\u001b[0m\u001b[1;33m.\u001b[0m\u001b[0mfind_element_by_xpath\u001b[0m\u001b[1;33m(\u001b[0m\u001b[1;34m'//*[@id=\"react-root\"]/div/div/div[2]/main/div/div/div/div[1]/div/div[2]/div/section/div/div/div[1]/div/div/article/div/div/div/div[2]/div[2]/div[1]/div/div'\u001b[0m\u001b[1;33m)\u001b[0m\u001b[1;33m.\u001b[0m\u001b[0mtext\u001b[0m\u001b[1;33m\u001b[0m\u001b[1;33m\u001b[0m\u001b[0m\n\u001b[0m\u001b[0;32m      2\u001b[0m \u001b[0mhandle\u001b[0m \u001b[1;33m=\u001b[0m \u001b[0mdriver\u001b[0m\u001b[1;33m.\u001b[0m\u001b[0mfind_element_by_xpath\u001b[0m\u001b[1;33m(\u001b[0m\u001b[1;34m'.//span[contains(text(), \"@\")]'\u001b[0m\u001b[1;33m)\u001b[0m\u001b[1;33m.\u001b[0m\u001b[0mtext\u001b[0m\u001b[1;33m\u001b[0m\u001b[1;33m\u001b[0m\u001b[0m\n\u001b[0;32m      3\u001b[0m \u001b[1;33m\u001b[0m\u001b[0m\n\u001b[0;32m      4\u001b[0m \u001b[0mpostdate\u001b[0m \u001b[1;33m=\u001b[0m \u001b[0mdriver\u001b[0m\u001b[1;33m.\u001b[0m\u001b[0mfind_element_by_xpath\u001b[0m\u001b[1;33m(\u001b[0m\u001b[1;34m'//time'\u001b[0m\u001b[1;33m)\u001b[0m\u001b[1;33m.\u001b[0m\u001b[0mget_attribute\u001b[0m\u001b[1;33m(\u001b[0m\u001b[1;34m'datetime'\u001b[0m\u001b[1;33m)\u001b[0m\u001b[1;33m\u001b[0m\u001b[1;33m\u001b[0m\u001b[0m\n\u001b[0;32m      5\u001b[0m \u001b[1;33m\u001b[0m\u001b[0m\n",
      "\u001b[1;32m~\\anaconda3\\envs\\scraping\\lib\\site-packages\\selenium\\webdriver\\remote\\webdriver.py\u001b[0m in \u001b[0;36mfind_element_by_xpath\u001b[1;34m(self, xpath)\u001b[0m\n\u001b[0;32m    392\u001b[0m             \u001b[0melement\u001b[0m \u001b[1;33m=\u001b[0m \u001b[0mdriver\u001b[0m\u001b[1;33m.\u001b[0m\u001b[0mfind_element_by_xpath\u001b[0m\u001b[1;33m(\u001b[0m\u001b[1;34m'//div/td[1]'\u001b[0m\u001b[1;33m)\u001b[0m\u001b[1;33m\u001b[0m\u001b[1;33m\u001b[0m\u001b[0m\n\u001b[0;32m    393\u001b[0m         \"\"\"\n\u001b[1;32m--> 394\u001b[1;33m         \u001b[1;32mreturn\u001b[0m \u001b[0mself\u001b[0m\u001b[1;33m.\u001b[0m\u001b[0mfind_element\u001b[0m\u001b[1;33m(\u001b[0m\u001b[0mby\u001b[0m\u001b[1;33m=\u001b[0m\u001b[0mBy\u001b[0m\u001b[1;33m.\u001b[0m\u001b[0mXPATH\u001b[0m\u001b[1;33m,\u001b[0m \u001b[0mvalue\u001b[0m\u001b[1;33m=\u001b[0m\u001b[0mxpath\u001b[0m\u001b[1;33m)\u001b[0m\u001b[1;33m\u001b[0m\u001b[1;33m\u001b[0m\u001b[0m\n\u001b[0m\u001b[0;32m    395\u001b[0m \u001b[1;33m\u001b[0m\u001b[0m\n\u001b[0;32m    396\u001b[0m     \u001b[1;32mdef\u001b[0m \u001b[0mfind_elements_by_xpath\u001b[0m\u001b[1;33m(\u001b[0m\u001b[0mself\u001b[0m\u001b[1;33m,\u001b[0m \u001b[0mxpath\u001b[0m\u001b[1;33m)\u001b[0m\u001b[1;33m:\u001b[0m\u001b[1;33m\u001b[0m\u001b[1;33m\u001b[0m\u001b[0m\n",
      "\u001b[1;32m~\\anaconda3\\envs\\scraping\\lib\\site-packages\\selenium\\webdriver\\remote\\webdriver.py\u001b[0m in \u001b[0;36mfind_element\u001b[1;34m(self, by, value)\u001b[0m\n\u001b[0;32m    976\u001b[0m         return self.execute(Command.FIND_ELEMENT, {\n\u001b[0;32m    977\u001b[0m             \u001b[1;34m'using'\u001b[0m\u001b[1;33m:\u001b[0m \u001b[0mby\u001b[0m\u001b[1;33m,\u001b[0m\u001b[1;33m\u001b[0m\u001b[1;33m\u001b[0m\u001b[0m\n\u001b[1;32m--> 978\u001b[1;33m             'value': value})['value']\n\u001b[0m\u001b[0;32m    979\u001b[0m \u001b[1;33m\u001b[0m\u001b[0m\n\u001b[0;32m    980\u001b[0m     \u001b[1;32mdef\u001b[0m \u001b[0mfind_elements\u001b[0m\u001b[1;33m(\u001b[0m\u001b[0mself\u001b[0m\u001b[1;33m,\u001b[0m \u001b[0mby\u001b[0m\u001b[1;33m=\u001b[0m\u001b[0mBy\u001b[0m\u001b[1;33m.\u001b[0m\u001b[0mID\u001b[0m\u001b[1;33m,\u001b[0m \u001b[0mvalue\u001b[0m\u001b[1;33m=\u001b[0m\u001b[1;32mNone\u001b[0m\u001b[1;33m)\u001b[0m\u001b[1;33m:\u001b[0m\u001b[1;33m\u001b[0m\u001b[1;33m\u001b[0m\u001b[0m\n",
      "\u001b[1;32m~\\anaconda3\\envs\\scraping\\lib\\site-packages\\selenium\\webdriver\\remote\\webdriver.py\u001b[0m in \u001b[0;36mexecute\u001b[1;34m(self, driver_command, params)\u001b[0m\n\u001b[0;32m    319\u001b[0m         \u001b[0mresponse\u001b[0m \u001b[1;33m=\u001b[0m \u001b[0mself\u001b[0m\u001b[1;33m.\u001b[0m\u001b[0mcommand_executor\u001b[0m\u001b[1;33m.\u001b[0m\u001b[0mexecute\u001b[0m\u001b[1;33m(\u001b[0m\u001b[0mdriver_command\u001b[0m\u001b[1;33m,\u001b[0m \u001b[0mparams\u001b[0m\u001b[1;33m)\u001b[0m\u001b[1;33m\u001b[0m\u001b[1;33m\u001b[0m\u001b[0m\n\u001b[0;32m    320\u001b[0m         \u001b[1;32mif\u001b[0m \u001b[0mresponse\u001b[0m\u001b[1;33m:\u001b[0m\u001b[1;33m\u001b[0m\u001b[1;33m\u001b[0m\u001b[0m\n\u001b[1;32m--> 321\u001b[1;33m             \u001b[0mself\u001b[0m\u001b[1;33m.\u001b[0m\u001b[0merror_handler\u001b[0m\u001b[1;33m.\u001b[0m\u001b[0mcheck_response\u001b[0m\u001b[1;33m(\u001b[0m\u001b[0mresponse\u001b[0m\u001b[1;33m)\u001b[0m\u001b[1;33m\u001b[0m\u001b[1;33m\u001b[0m\u001b[0m\n\u001b[0m\u001b[0;32m    322\u001b[0m             response['value'] = self._unwrap_value(\n\u001b[0;32m    323\u001b[0m                 response.get('value', None))\n",
      "\u001b[1;32m~\\anaconda3\\envs\\scraping\\lib\\site-packages\\selenium\\webdriver\\remote\\errorhandler.py\u001b[0m in \u001b[0;36mcheck_response\u001b[1;34m(self, response)\u001b[0m\n\u001b[0;32m    240\u001b[0m                 \u001b[0malert_text\u001b[0m \u001b[1;33m=\u001b[0m \u001b[0mvalue\u001b[0m\u001b[1;33m[\u001b[0m\u001b[1;34m'alert'\u001b[0m\u001b[1;33m]\u001b[0m\u001b[1;33m.\u001b[0m\u001b[0mget\u001b[0m\u001b[1;33m(\u001b[0m\u001b[1;34m'text'\u001b[0m\u001b[1;33m)\u001b[0m\u001b[1;33m\u001b[0m\u001b[1;33m\u001b[0m\u001b[0m\n\u001b[0;32m    241\u001b[0m             \u001b[1;32mraise\u001b[0m \u001b[0mexception_class\u001b[0m\u001b[1;33m(\u001b[0m\u001b[0mmessage\u001b[0m\u001b[1;33m,\u001b[0m \u001b[0mscreen\u001b[0m\u001b[1;33m,\u001b[0m \u001b[0mstacktrace\u001b[0m\u001b[1;33m,\u001b[0m \u001b[0malert_text\u001b[0m\u001b[1;33m)\u001b[0m\u001b[1;33m\u001b[0m\u001b[1;33m\u001b[0m\u001b[0m\n\u001b[1;32m--> 242\u001b[1;33m         \u001b[1;32mraise\u001b[0m \u001b[0mexception_class\u001b[0m\u001b[1;33m(\u001b[0m\u001b[0mmessage\u001b[0m\u001b[1;33m,\u001b[0m \u001b[0mscreen\u001b[0m\u001b[1;33m,\u001b[0m \u001b[0mstacktrace\u001b[0m\u001b[1;33m)\u001b[0m\u001b[1;33m\u001b[0m\u001b[1;33m\u001b[0m\u001b[0m\n\u001b[0m\u001b[0;32m    243\u001b[0m \u001b[1;33m\u001b[0m\u001b[0m\n\u001b[0;32m    244\u001b[0m     \u001b[1;32mdef\u001b[0m \u001b[0m_value_or_default\u001b[0m\u001b[1;33m(\u001b[0m\u001b[0mself\u001b[0m\u001b[1;33m,\u001b[0m \u001b[0mobj\u001b[0m\u001b[1;33m,\u001b[0m \u001b[0mkey\u001b[0m\u001b[1;33m,\u001b[0m \u001b[0mdefault\u001b[0m\u001b[1;33m)\u001b[0m\u001b[1;33m:\u001b[0m\u001b[1;33m\u001b[0m\u001b[1;33m\u001b[0m\u001b[0m\n",
      "\u001b[1;31mNoSuchElementException\u001b[0m: Message: no such element: Unable to locate element: {\"method\":\"xpath\",\"selector\":\"//*[@id=\"react-root\"]/div/div/div[2]/main/div/div/div/div[1]/div/div[2]/div/section/div/div/div[1]/div/div/article/div/div/div/div[2]/div[2]/div[1]/div/div\"}\n  (Session info: chrome=99.0.4844.82)\n"
     ]
    }
   ],
   "source": [
    "username = driver.find_element_by_xpath('//*[@id=\"react-root\"]/div/div/div[2]/main/div/div/div/div[1]/div/div[2]/div/section/div/div/div[1]/div/div/article/div/div/div/div[2]/div[2]/div[1]/div/div').text\n",
    "handle = driver.find_element_by_xpath('.//span[contains(text(), \"@\")]').text\n",
    "\n",
    "postdate = driver.find_element_by_xpath('//time').get_attribute('datetime')\n",
    "\n",
    "\n",
    "comment = driver.find_element_by_xpath ('//div[2]/div[2]/div[1]').text\n",
    "responding = driver.find_element_by_xpath('//div[2]/div[2]/div[2]').text \n",
    "text =comment + responding\n",
    "reply_cnt = driverdriver.find_element_by_xpath ('.//div[@data-testid=\"reply\"]').text\n",
    "retweet_cnt = driver.find_element_by_xpath ('.//div[@data-testid=\"retweet\"]').text\n",
    "like_cnt =  driver.find_element_by_xpath ('.//div[@data-testid=\"like\"]').text\n",
    "tweet = (username, handle, postdate ,text, reply_cnt, retweet_cnt, like_cnt)\n"
   ]
  },
  {
   "cell_type": "code",
   "execution_count": 116,
   "id": "55ccc898",
   "metadata": {},
   "outputs": [],
   "source": [
    "import re\n",
    "import csv\n",
    "from getpass import getpass\n",
    "from time import sleep\n",
    "from selenium import webdriver\n",
    "from selenium.webdriver.common.keys import Keys\n",
    "from selenium.common.exceptions import NoSuchElementException\n",
    "from msedge.selenium_tools import Edge, EdgeOptions "
   ]
  },
  {
   "cell_type": "code",
   "execution_count": 246,
   "id": "21270f02",
   "metadata": {},
   "outputs": [
    {
     "name": "stdout",
     "output_type": "stream",
     "text": [
      "https://pbs.twimg.com/media/FN91XcDWUAEFdlT?format=jpg&name=small\n"
     ]
    }
   ],
   "source": [
    "elcards= driver.find_elements_by_xpath('//article[@data-testid=\"tweet\"]')\n",
    "elcard= elcards[0]\n",
    "elcard.text \n",
    "image= elcard.find_elements_by_class_name('css-9pa8cd')\n",
    "for img in image:\n",
    "    images = img.get_attribute(\"src\")\n",
    "\n",
    "print(im)"
   ]
  },
  {
   "cell_type": "code",
   "execution_count": 247,
   "id": "0114bcf3",
   "metadata": {},
   "outputs": [],
   "source": [
    "\n",
    "def get_tweet_data(card):\n",
    "    \"\"\"Extract data from tweet card\"\"\"\n",
    "    username = card.find_element_by_xpath('.//span').text\n",
    "    try:\n",
    "        handle = card.find_element_by_xpath('.//span[contains(text(), \"@\")]').text\n",
    "    except NoSuchElementException:\n",
    "        return\n",
    "    \n",
    "    try:\n",
    "        postdate = card.find_element_by_xpath('.//time').get_attribute('datetime')\n",
    "    except NoSuchElementException:\n",
    "        return\n",
    "    \n",
    "    comment = card.find_element_by_xpath('.//div[2]/div[2]/div[1]').text\n",
    "    responding = card.find_element_by_xpath('.//div[2]/div[2]/div[2]').text\n",
    "#     text = comment + responding\n",
    "    reply_cnt = card.find_element_by_xpath('.//div[@data-testid=\"reply\"]').text\n",
    "    retweet_cnt = card.find_element_by_xpath('.//div[@data-testid=\"retweet\"]').text\n",
    "    like_cnt = card.find_element_by_xpath('.//div[@data-testid=\"like\"]').text\n",
    "    \n",
    "    # get a string of all emojis contained in the tweet\n",
    "    \"\"\"Emojis are stored as images... so I convert the filename, which is stored as unicode, into \n",
    "    the emoji character.\"\"\"\n",
    "    list_img = card.find_elements_by_class_name('css-9pa8cd')\n",
    "    for img in list_img:\n",
    "        images = img.get_attribute(\"src\")\n",
    "    \n",
    "    tweet = (username, handle, postdate, comment,responding, images, reply_cnt, retweet_cnt, like_cnt)\n",
    "    return tweet "
   ]
  },
  {
   "cell_type": "code",
   "execution_count": 120,
   "id": "e777d4a7",
   "metadata": {},
   "outputs": [
    {
     "name": "stdout",
     "output_type": "stream",
     "text": [
      "search term: accenture\n"
     ]
    }
   ],
   "source": [
    "search_term = input('search term: ')\n",
    "\n",
    "# create instance of web driver\n",
    "\n",
    "# navigate to login screen\n",
    "driver.get('https://twitter.com/search')\n",
    "driver.maximize_window()\n",
    "sleep(5)\n",
    "\n",
    "# find search input and search for term\n",
    "search_input = driver.find_element_by_xpath('//input[@aria-label=\"Search query\"]')\n",
    "search_input.send_keys(search_term)\n",
    "search_input.send_keys(Keys.RETURN)\n",
    "sleep(1)\n",
    "\n",
    "# navigate to historical 'latest' tab\n",
    "driver.find_element_by_link_text('Latest').click()"
   ]
  },
  {
   "cell_type": "code",
   "execution_count": 248,
   "id": "47cb0b47",
   "metadata": {},
   "outputs": [
    {
     "name": "stdout",
     "output_type": "stream",
     "text": [
      "Enter your value: accenture\n"
     ]
    }
   ],
   "source": [
    "company = input(\"Enter your value: \")\n",
    "page = \"https://twitter.com/\"+company+\"/\"\n",
    "driver.get(page)"
   ]
  },
  {
   "cell_type": "code",
   "execution_count": 249,
   "id": "3a1b4f65",
   "metadata": {},
   "outputs": [
    {
     "ename": "KeyboardInterrupt",
     "evalue": "",
     "output_type": "error",
     "traceback": [
      "\u001b[1;31m---------------------------------------------------------------------------\u001b[0m",
      "\u001b[1;31mKeyboardInterrupt\u001b[0m                         Traceback (most recent call last)",
      "\u001b[1;32m~\\AppData\\Local\\Temp/ipykernel_8196/3771108767.py\u001b[0m in \u001b[0;36m<module>\u001b[1;34m\u001b[0m\n\u001b[0;32m     19\u001b[0m         \u001b[1;31m# check scroll position\u001b[0m\u001b[1;33m\u001b[0m\u001b[1;33m\u001b[0m\u001b[1;33m\u001b[0m\u001b[0m\n\u001b[0;32m     20\u001b[0m         \u001b[0mdriver\u001b[0m\u001b[1;33m.\u001b[0m\u001b[0mexecute_script\u001b[0m\u001b[1;33m(\u001b[0m\u001b[1;34m'window.scrollTo(0, document.body.scrollHeight);'\u001b[0m\u001b[1;33m)\u001b[0m\u001b[1;33m\u001b[0m\u001b[1;33m\u001b[0m\u001b[0m\n\u001b[1;32m---> 21\u001b[1;33m         \u001b[0msleep\u001b[0m\u001b[1;33m(\u001b[0m\u001b[1;36m2\u001b[0m\u001b[1;33m)\u001b[0m\u001b[1;33m\u001b[0m\u001b[1;33m\u001b[0m\u001b[0m\n\u001b[0m\u001b[0;32m     22\u001b[0m         \u001b[0mcurr_position\u001b[0m \u001b[1;33m=\u001b[0m \u001b[0mdriver\u001b[0m\u001b[1;33m.\u001b[0m\u001b[0mexecute_script\u001b[0m\u001b[1;33m(\u001b[0m\u001b[1;34m\"return window.pageYOffset;\"\u001b[0m\u001b[1;33m)\u001b[0m\u001b[1;33m\u001b[0m\u001b[1;33m\u001b[0m\u001b[0m\n\u001b[0;32m     23\u001b[0m         \u001b[1;32mif\u001b[0m \u001b[0mlast_position\u001b[0m \u001b[1;33m==\u001b[0m \u001b[0mcurr_position\u001b[0m\u001b[1;33m:\u001b[0m\u001b[1;33m\u001b[0m\u001b[1;33m\u001b[0m\u001b[0m\n",
      "\u001b[1;31mKeyboardInterrupt\u001b[0m: "
     ]
    }
   ],
   "source": [
    "# get all tweets on the page\n",
    "data = []\n",
    "tweet_ids = set()\n",
    "last_position = driver.execute_script(\"return window.pageYOffset;\")\n",
    "scrolling = True\n",
    "\n",
    "while scrolling:\n",
    "    page_cards = driver.find_elements_by_xpath('//article[@data-testid=\"tweet\"]')\n",
    "    for card in page_cards[-15:]:\n",
    "        tweet = get_tweet_data(card)\n",
    "        if tweet:\n",
    "            tweet_id = ''.join(tweet)\n",
    "            if tweet_id not in tweet_ids:\n",
    "                tweet_ids.add(tweet_id)\n",
    "                data.append(tweet)\n",
    "            \n",
    "    scroll_attempt = 0\n",
    "    while True:\n",
    "        # check scroll position\n",
    "        driver.execute_script('window.scrollTo(0, document.body.scrollHeight);')\n",
    "        sleep(2)\n",
    "        curr_position = driver.execute_script(\"return window.pageYOffset;\")\n",
    "        if last_position == curr_position:\n",
    "            scroll_attempt += 1\n",
    "            \n",
    "            # end of scroll region\n",
    "            if scroll_attempt >= 3:\n",
    "                scrolling = False\n",
    "                break\n",
    "            else:\n",
    "                sleep(2) # attempt another scroll\n",
    "        else:\n",
    "            last_position = curr_position\n",
    "            break\n",
    "\n",
    "# close the web driver\n",
    "driver.close()"
   ]
  },
  {
   "cell_type": "code",
   "execution_count": 250,
   "id": "7c695aea",
   "metadata": {},
   "outputs": [],
   "source": [
    "with open('accenture.csv', 'w', newline='', encoding='utf-8') as f:\n",
    "    header = ['UserName', 'Handle', 'Timestamp', 'Text', 'images', 'Comments', 'Likes', 'Retweets']\n",
    "    writer = csv.writer(f)\n",
    "    writer.writerow(header)\n",
    "    writer.writerows(data)"
   ]
  },
  {
   "cell_type": "code",
   "execution_count": 125,
   "id": "c1c024d5",
   "metadata": {},
   "outputs": [
    {
     "data": {
      "text/plain": [
       "''"
      ]
     },
     "execution_count": 125,
     "metadata": {},
     "output_type": "execute_result"
    }
   ],
   "source": []
  },
  {
   "cell_type": "code",
   "execution_count": null,
   "id": "5eabba92",
   "metadata": {},
   "outputs": [],
   "source": []
  }
 ],
 "metadata": {
  "kernelspec": {
   "display_name": "Python 3 (ipykernel)",
   "language": "python",
   "name": "python3"
  },
  "language_info": {
   "codemirror_mode": {
    "name": "ipython",
    "version": 3
   },
   "file_extension": ".py",
   "mimetype": "text/x-python",
   "name": "python",
   "nbconvert_exporter": "python",
   "pygments_lexer": "ipython3",
   "version": "3.7.11"
  }
 },
 "nbformat": 4,
 "nbformat_minor": 5
}
